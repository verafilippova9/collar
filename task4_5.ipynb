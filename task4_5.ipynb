{
  "nbformat": 4,
  "nbformat_minor": 0,
  "metadata": {
    "colab": {
      "provenance": [],
      "authorship_tag": "ABX9TyMIfRclQWx7AcfH/yEBossY",
      "include_colab_link": true
    },
    "kernelspec": {
      "name": "python3",
      "display_name": "Python 3"
    },
    "language_info": {
      "name": "python"
    }
  },
  "cells": [
    {
      "cell_type": "markdown",
      "metadata": {
        "id": "view-in-github",
        "colab_type": "text"
      },
      "source": [
        "<a href=\"https://colab.research.google.com/github/verafilippova9/collar/blob/main/task4_5.ipynb\" target=\"_parent\"><img src=\"https://colab.research.google.com/assets/colab-badge.svg\" alt=\"Open In Colab\"/></a>"
      ]
    },
    {
      "cell_type": "code",
      "execution_count": 3,
      "metadata": {
        "id": "b8RLK_WsV3Fx"
      },
      "outputs": [],
      "source": [
        "def analyze_prices(prices_str):\n",
        "    prices = list(map(int, prices_str.split()))\n",
        "\n",
        "    v_min = min(prices)\n",
        "    v_max = max(prices)\n",
        "    v_sum = sum(prices)\n",
        "\n",
        "    return f\"Min = {v_min}, max = {v_max}, sum = {v_sum}\""
      ]
    }
  ]
}